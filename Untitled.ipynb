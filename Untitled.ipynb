{
 "cells": [
  {
   "cell_type": "markdown",
   "id": "cada9bea",
   "metadata": {},
   "source": [
    "# Ans1"
   ]
  },
  {
   "cell_type": "code",
   "execution_count": 1,
   "id": "46afd310",
   "metadata": {},
   "outputs": [],
   "source": [
    "# Inheritance is used in Object Oriented Programming to create classes which share a set of\n",
    "# properBes and methods by deriving a class from another class. The Inheritance is used because:\n",
    "# - It represents real-world relaBonships well.\n",
    "# - It provides the reusability of a code. We don’t have to write the same code again and again.\n",
    "# Also, it allows us to add more features to a class without modifying it.\n",
    "# - It is transiBve in nature, which means that if class B inherits from another class A, then all the\n",
    "# subclasses of B would automaBcally inherit from class A.\n",
    "# - Inheritance offers a simple, understandable model structure.\n",
    "# - Less development and maintenance expenses result from an inheritance."
   ]
  },
  {
   "cell_type": "markdown",
   "id": "8c4eda2c",
   "metadata": {},
   "source": [
    "# Ans2"
   ]
  },
  {
   "cell_type": "code",
   "execution_count": 2,
   "id": "d2f9dc82",
   "metadata": {},
   "outputs": [],
   "source": [
    "# Single Inheritance: In this type of Inheritance, Child Class inheritance properBes from a singlr Parent\n",
    "# class.\n",
    "# Mul0ple Inheritance: When a child class is derived from more than one parent class is called\n",
    "# mulBple inheritances.\n",
    "# Comparison between Single and Mul0ple Inheritance:\n",
    "# - MulBple inheritance is more complex than single inheritance.\n",
    "# - If the parent classes have an aPribute or funcBon with the same name then for a child class, it\n",
    "# becomes difficult to idenBfy which parent class’s aPribute or funcBon it has to derive.\n",
    "# - Single inheritance is more towards specializaBon. On the other hand, mulBple inheritance is\n",
    "# more towards generalizaBon.\n",
    "# - Single Inheritance require small amount of run Bme over head while MulBple Inheritance\n",
    "# requires addiBonal runBme overhead."
   ]
  },
  {
   "cell_type": "markdown",
   "id": "0994ce09",
   "metadata": {},
   "source": [
    "# Ans3"
   ]
  },
  {
   "cell_type": "code",
   "execution_count": 3,
   "id": "d0c150aa",
   "metadata": {},
   "outputs": [],
   "source": [
    "# The Base class is the main class from which derived class inherits the properBes and methods.\n",
    "# Given below is the general syntax:-\n",
    "# Class BaseClass:\n",
    "#  {Body}\n",
    "# Class DerivedClass(BaseClass):\n",
    "#  {Body}"
   ]
  },
  {
   "cell_type": "markdown",
   "id": "0de934bf",
   "metadata": {},
   "source": [
    "# Ans4"
   ]
  },
  {
   "cell_type": "code",
   "execution_count": 8,
   "id": "bbb3944f",
   "metadata": {},
   "outputs": [
    {
     "name": "stdout",
     "output_type": "stream",
     "text": [
      "Name is om and roll number is 123.\n",
      "Name:  rohan\n",
      "Roll:  45\n",
      "Branch:  Biology\n"
     ]
    }
   ],
   "source": [
    "# (i) Protected: The members of a class that are declared protected are only accessible to a class\n",
    "# derived from it. Data members of a class are declared protected by adding a single underscore (_)\n",
    "# symbol before the data member of that class. Given below is a Protected example:\n",
    "class Student:\n",
    " def __init__(self, name, roll):\n",
    "    self._name = name\n",
    "    self._roll = roll\n",
    "    \n",
    " def _display(self):\n",
    "    print(f'Name is {self._name} and roll number is {self._roll}.')\n",
    "\n",
    "student = Student(\"om\", 123)\n",
    "student._display()\n",
    "\n",
    "\n",
    "# (ii) Public: The members of a class that are declared public are easily accessible from any part of the\n",
    "# program. All data members and member funcBons of a class are public by default.\n",
    "\n",
    "\n",
    "# (iii) Private: The members of a class that are declared private are accessible within the class only,\n",
    "# private access modifier is the most secure access modifier. Data members of a class are declared\n",
    "# private by adding a double underscore (__) symbol before the data member of that class.\n",
    "class test:\n",
    " def __init__(self, name, roll, branch):\n",
    "    self.__name = name\n",
    "    self.__roll = roll\n",
    "    self.__branch = branch\n",
    " def __displayDetails(self):\n",
    "    print(\"Name: \", self.__name)\n",
    "    print(\"Roll: \", self.__roll)\n",
    "    print(\"Branch: \", self.__branch)\n",
    "\n",
    " def accessPrivateFuncBon(self):\n",
    "    self.__displayDetails()\n",
    "\n",
    "obj = test(\"rohan\", 45, \"Biology\")\n",
    "obj.accessPrivateFuncBon()"
   ]
  },
  {
   "cell_type": "markdown",
   "id": "e79cee7b",
   "metadata": {},
   "source": [
    "# Ans5"
   ]
  },
  {
   "cell_type": "code",
   "execution_count": 6,
   "id": "05659f38",
   "metadata": {},
   "outputs": [
    {
     "name": "stdout",
     "output_type": "stream",
     "text": [
      "Please enter valid PublicaBon Year.\n",
      "The Book Btled \"Verity\" is returned.\n",
      "Title of the Book: Verity\n",
      "Author of the Book: Colleen Hoover\n",
      "PublicaBon year of the Book: 1880\n",
      "The Magazine Btled \"Vogue\" is checked out.\n",
      "Title of the Book: Vogue\n",
      "Author of the Book: Anna Wintour\n",
      "PublicaBon year of the Book: 2023\n",
      "The Magazine Btled \"Vogue\" is returned.\n",
      "Title of the Book: Vogue\n",
      "Author of the Book: Anna Wintour\n",
      "PublicaBon year of the Book: 2023\n"
     ]
    }
   ],
   "source": [
    "# super--The super() funcBon is used to refer to the parent class. It allows to call methods defined in the\n",
    "# superclass (parent) from the subclass, enabling to extend and customize the funcBonality inherited\n",
    "# from the parent class. Example of super():\n",
    "class LibraryItem:\n",
    "    def __init__(self, Btle, author, publicaBon_year):\n",
    "        self.Btle = Btle\n",
    "        self.author = author\n",
    "        self.publicaBon_year = int(publicaBon_year)\n",
    "\n",
    "    def bookdetail(self):\n",
    "        print(f'Title of the Book: {self.Btle}')\n",
    "        print(f'Author of the Book: {self.author}')\n",
    "        print(f'PublicaBon year of the Book: {self.publicaBon_year}')\n",
    "\n",
    "class Book(LibraryItem):\n",
    "    def checkout(self):\n",
    "        if self.publicaBon_year>2023 or self.publicaBon_year<1900:\n",
    "            print(f'Please enter valid PublicaBon Year.')\n",
    "        else:\n",
    "            print(f'The Book Btled \"{self.Btle}\" is checked out.')\n",
    "            super().bookdetail()\n",
    "\n",
    "    def return_item(self):\n",
    "        print(f'The Book Btled \"{self.Btle}\" is returned.')\n",
    "        super().bookdetail()\n",
    "    \n",
    "class Magazine(LibraryItem):\n",
    "    def checkout(self):\n",
    "        print(f'The Magazine Btled \"{self.Btle}\" is checked out.')\n",
    "        super().bookdetail()\n",
    "\n",
    "    def return_item(self):\n",
    "        print(f'The Magazine Btled \"{self.Btle}\" is returned.')\n",
    "        super().bookdetail()\n",
    "book1 = Book(\"Verity\", \"Colleen Hoover\", 1880)\n",
    "book1.checkout()\n",
    "book1.return_item()\n",
    "magazine1 = Magazine(\"Vogue\", \"Anna Wintour\", 2023)\n",
    "magazine1.checkout()\n",
    "magazine1.return_item()"
   ]
  },
  {
   "cell_type": "markdown",
   "id": "9be3453a",
   "metadata": {},
   "source": [
    "# Ans6"
   ]
  },
  {
   "cell_type": "code",
   "execution_count": 9,
   "id": "1892f7a2",
   "metadata": {},
   "outputs": [
    {
     "name": "stdout",
     "output_type": "stream",
     "text": [
      "Vehicle Brand: Audi\n",
      "Vehicle Model: iQ\n",
      "Manufacture Year: 2023\n",
      "The Audi iQ manufactured in 2023 is starBng.\n"
     ]
    }
   ],
   "source": [
    "# The Vehicle code:\n",
    "class Vehicle:\n",
    " def __init__(self, make, model, year):\n",
    "     self.make=make\n",
    "     self.model=model\n",
    "     self.year=int(year)\n",
    " def detail(self):\n",
    "     print(f'Vehicle Brand: {self.make}')\n",
    "     print(f'Vehicle Model: {self.model}')\n",
    "     print(f'Manufacture Year: {self.year}')\n",
    "\n",
    "class Car(Vehicle):\n",
    " def start_engine(self):\n",
    "    if self.year<2015:\n",
    "        print(f'The vehicles manufactured before 2015 are not in the database.')\n",
    "    elif self.year>2023:\n",
    "        print(f'Please enter valid year of manufacture.')\n",
    "    else:\n",
    "        print(f'The {self.make} {self.model} manufactured in {self.year} is starBng.')\n",
    "car1=Vehicle(\"Audi\", \"iQ\", 2023)\n",
    "car1.detail()\n",
    "car1=Car(\"Audi\", \"iQ\", 2023)\n",
    "car1.start_engine()"
   ]
  },
  {
   "cell_type": "markdown",
   "id": "47a12c15",
   "metadata": {},
   "source": [
    "# Ans7"
   ]
  },
  {
   "cell_type": "code",
   "execution_count": 10,
   "id": "596b3e65",
   "metadata": {},
   "outputs": [
    {
     "name": "stdout",
     "output_type": "stream",
     "text": [
      "Manager Details:\n",
      "Name: Rohan Joshi\n",
      "Dpartment: Finance\n",
      "Salary: 2500000\n",
      "Developer Details:\n",
      "Name: Mayanl Agarwal\n",
      "Programming Language: Python Full Stack Developer\n",
      "Salary: 1250000\n"
     ]
    }
   ],
   "source": [
    "# Employee code:\n",
    "class Employee:\n",
    " def __init__(self, name, salary):\n",
    "     self.name=name\n",
    "     self.salary=salary\n",
    "class Manager(Employee):\n",
    " def __init__(self, name, salary, department):\n",
    "    super().__init__(name, salary)\n",
    "    self.department=department\n",
    " def mdetail(self):\n",
    "    print(f'Manager Details:')\n",
    "    print(f'Name: {self.name}')\n",
    "    print(f'Dpartment: {self.department}')\n",
    "    print(f'Salary: {self.salary}')\n",
    "\n",
    "class Developer(Employee):\n",
    " def __init__(self, name, salary, programming_language):\n",
    "    super().__init__(name, salary)\n",
    "    self.programming_language=programming_language\n",
    " def ddetail(self):\n",
    "    print(f'Developer Details:')\n",
    "    print(f'Name: {self.name}')\n",
    "    print(f'Programming Language: {self.programming_language}')\n",
    "    print(f'Salary: {self.salary}')\n",
    "employee1=Manager('Rohan Joshi', 2500000, 'Finance')\n",
    "employee1.mdetail()\n",
    "employee2=Developer('Mayanl Agarwal', 1250000, 'Python Full Stack Developer')\n",
    "employee2.ddetail()"
   ]
  },
  {
   "cell_type": "markdown",
   "id": "594ee36e",
   "metadata": {},
   "source": [
    "# Ans8"
   ]
  },
  {
   "cell_type": "code",
   "execution_count": 11,
   "id": "20c213e8",
   "metadata": {},
   "outputs": [
    {
     "name": "stdout",
     "output_type": "stream",
     "text": [
      "Enter length of the Rectangle: 7\n",
      "Enter breadth of the Rectangle: 9\n",
      "The area of rectangle is 63.\n",
      "The perimeter of rectangle is 32.\n",
      "Enter radius of the Circle: 5\n",
      "The area of Circle is 78.5.\n",
      "The circumference of Circle is 31.400000000000002.\n"
     ]
    }
   ],
   "source": [
    "# Shape code:\n",
    "class Shape:\n",
    " def __init__(self, colour, border_width):\n",
    "    self.colour=colour\n",
    "    self.border_width=border_width\n",
    "class Rectangle(Shape):\n",
    " def __init__(self, colour, border_width, length, width, rectangle_area, perimeter):\n",
    "    super().__init__(colour, border_width)\n",
    "    self.length=length\n",
    "    self.width=width\n",
    "    self.rectangle_area=rectangle_area\n",
    "    self.perimeter=perimeter\n",
    " def r_area(self):\n",
    "    self.length=int(input('Enter length of the Rectangle: '))\n",
    "    self.width=int(input('Enter breadth of the Rectangle: '))\n",
    "    self.rectangle_area=self.length * self.width\n",
    "    print(f'The area of rectangle is {self.rectangle_area}.')\n",
    "    self.perimeter=2*self.length+2*self.width\n",
    "    print(f'The perimeter of rectangle is {self.perimeter}.')\n",
    "class Circle(Shape):\n",
    " def __init__(self, colour, border_width, radius, circle_area, circumference):\n",
    "    super().__init__(colour, border_width)\n",
    "    self.radius=radius\n",
    "    self.circle_area=circle_area\n",
    "    self.circumference=circumference\n",
    " def c_area(self):\n",
    "    self.radius=int(input('Enter radius of the Circle: '))\n",
    "    self.circle_area= 3.14 * self.radius * self.radius\n",
    "    print(f'The area of Circle is {self.circle_area}.')\n",
    "    self.circumference=2*3.14*self.radius\n",
    "    print(f'The circumference of Circle is {self.circumference}.')\n",
    "shape1=Rectangle('Red', '0.7 cm', 3, 6, 18, 4)\n",
    "shape1.r_area()\n",
    "shape2=Circle('Yellow', '0.7', 6, 2, 4)\n",
    "shape2.c_area()"
   ]
  },
  {
   "cell_type": "markdown",
   "id": "229b0f90",
   "metadata": {},
   "source": [
    "# Ans9"
   ]
  },
  {
   "cell_type": "code",
   "execution_count": 13,
   "id": "80ca32d1",
   "metadata": {},
   "outputs": [
    {
     "name": "stdout",
     "output_type": "stream",
     "text": [
      "The Phone is from Samsung. Model is Galaxy Ultra Note 9.\n",
      "The screen size of the Samsung Galaxy Ultra Note 9 is 6.4 inches.\n",
      "The Tablet is from Apple. Model is iPad.\n",
      "The baPery capacity of the Apple iPad is upto 10hours.\n"
     ]
    }
   ],
   "source": [
    "# Device code:\n",
    "class Device:\n",
    " def __init__(self, brand, model):\n",
    "    self.brand=brand\n",
    "    self.model=model\n",
    "class Phone(Device):\n",
    " def __init__(self, brand, model, screen_size):\n",
    "    super().__init__(brand, model)\n",
    "    self.screen_size=screen_size\n",
    " def phone_detail(self):\n",
    "    print(f'The Phone is from {self.brand}. Model is {self.model}.')\n",
    "    print(f'The screen size of the {self.brand} {self.model} is {self.screen_size} inches.')\n",
    "class Tablet(Device):\n",
    " def __init__(self, brand, model, baPery_capacity):\n",
    "    super().__init__(brand, model)\n",
    "    self.baPery_capacity=baPery_capacity\n",
    " def tablet_detail(self):\n",
    "    print(f'The Tablet is from {self.brand}. Model is {self.model}.')\n",
    "    print(f'The baPery capacity of the {self.brand} {self.model} is upto {self.baPery_capacity}hours.')\n",
    "device1=Phone('Samsung', 'Galaxy Ultra Note 9', 6.4)\n",
    "device1.phone_detail()\n",
    "device2=Tablet('Apple', 'iPad', 10)\n",
    "device2.tablet_detail()"
   ]
  },
  {
   "cell_type": "markdown",
   "id": "00b90b38",
   "metadata": {},
   "source": [
    "# Ans10"
   ]
  },
  {
   "cell_type": "code",
   "execution_count": 14,
   "id": "f653e302",
   "metadata": {},
   "outputs": [
    {
     "name": "stdout",
     "output_type": "stream",
     "text": [
      "The Interest of the remaining amount Rs. 2356987 is 3.4%.\n",
      "The DeducBon fee of balance Rs. 2356987 is 2%.\n"
     ]
    }
   ],
   "source": [
    "# BankAccount code:\n",
    "class BankAccount:\n",
    " def __init__(self, account_number, balance):\n",
    "    self.account_number=account_number\n",
    "    self.balance=balance\n",
    "\n",
    "class SavingsAccount(BankAccount):\n",
    " def __init__(self, account_number, balance, interest):\n",
    "    super().__init__(account_number, balance)\n",
    "    self.interest=interest\n",
    " def calculate_interest(self):\n",
    "    print(f'The Interest of the remaining amount Rs. {self.balance} is {self.interest}%.')\n",
    "class CheckingAccount(BankAccount):\n",
    " def __init__(self, account_number, balance, deducBon):\n",
    "    super().__init__(account_number, balance)\n",
    "    self.deducBon=deducBon\n",
    " def deduct_fees(self):\n",
    "    print(f'The DeducBon fee of balance Rs. {self.balance} is {self.deducBon}%.')\n",
    "account1=SavingsAccount('GB4H5768', 2356987, '3.4')\n",
    "account1.calculate_interest()\n",
    "account2=CheckingAccount('GB4H5768', 2356987, '2')\n",
    "account2.deduct_fees()"
   ]
  },
  {
   "cell_type": "code",
   "execution_count": null,
   "id": "b73875b4",
   "metadata": {},
   "outputs": [],
   "source": []
  }
 ],
 "metadata": {
  "kernelspec": {
   "display_name": "Python 3 (ipykernel)",
   "language": "python",
   "name": "python3"
  },
  "language_info": {
   "codemirror_mode": {
    "name": "ipython",
    "version": 3
   },
   "file_extension": ".py",
   "mimetype": "text/x-python",
   "name": "python",
   "nbconvert_exporter": "python",
   "pygments_lexer": "ipython3",
   "version": "3.11.1"
  }
 },
 "nbformat": 4,
 "nbformat_minor": 5
}
